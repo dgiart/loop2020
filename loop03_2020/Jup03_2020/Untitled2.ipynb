{
 "cells": [
  {
   "cell_type": "code",
   "execution_count": 3,
   "metadata": {},
   "outputs": [],
   "source": [
    "import sys\n",
    "sys.path.append('../')\n",
    "from l2020_iz_anizotropic import LiebmanAniz"
   ]
  },
  {
   "cell_type": "code",
   "execution_count": 4,
   "metadata": {},
   "outputs": [
    {
     "name": "stdout",
     "output_type": "stream",
     "text": [
      "!!!!!!!!!!!!!!!!!!!!!!!!!!!!!!!!!\n",
      "Ff= [[ 0.4055969   0.40553934  0.40536678 ...  0.18215992  0.18061382\n",
      "   0.17935094]\n",
      " [ 0.40814001  0.40808099  0.40790406 ...  0.18179965  0.18051765\n",
      "   0.17898627]\n",
      " [ 0.41072827  0.41066773  0.41048627 ...  0.18169949  0.18014896\n",
      "   0.17861551]\n",
      " ...\n",
      " [-0.16078457 -0.16073947 -0.16060429 ... -0.02529618 -0.02471432\n",
      "  -0.02381663]\n",
      " [-0.15881697 -0.15877313 -0.15864172 ... -0.02538524 -0.02486793\n",
      "  -0.02430312]\n",
      " [-0.15648605 -0.15644344 -0.15631571 ... -0.02552906 -0.02495535\n",
      "  -0.02439452]]\n",
      "\n",
      "*******************************\n",
      "\n",
      "Ffiz= [[0. 0. 0. ... 0. 0. 0.]\n",
      " [0. 0. 0. ... 0. 0. 0.]\n",
      " [0. 0. 0. ... 0. 0. 0.]\n",
      " ...\n",
      " [0. 0. 0. ... 0. 0. 0.]\n",
      " [0. 0. 0. ... 0. 0. 0.]\n",
      " [0. 0. 0. ... 0. 0. 0.]]\n",
      "!!!!!!!!!!!!!!!!!!!!!!!!!!!!!!!!!\n",
      "IZ!count=100, flow=3.5770247852051495,e=1, dev=10,w=1.95,T=9.18595814704895\n",
      "IZ!count=200, flow=2.6968708556545216,e=0.004754410088885115, dev=0.03746017435033225,w=1.95,T=9.434211015701294\n",
      "IZ!count=300, flow=2.58893639793628,e=0.00016417646235065454, dev=0.006514812116439108,w=1.95,T=9.560156106948853\n",
      "IZ!count=400, flow=2.577881126775103,e=1.7215304813931803e-05, dev=0.0007779159738224685,w=1.95,T=9.684989929199219\n",
      "IZ!count=500, flow=2.5766263803269287,e=1.960223833042204e-06, dev=8.837315318294828e-05,w=1.95,T=9.806000232696533\n",
      "IZ!count=600, flow=2.5764834872847437,e=2.2362326153572405e-07, dev=9.24241297276966e-06,w=1.95,T=9.921385049819946\n",
      "ANIZ!count=100, flow=2.7928000451248387,e=1, dev=10,w=1.95,T=10.125112056732178\n",
      "ANIZ!count=200, flow=2.809321191243283,e=1.4253183241726684e-05, dev=0.0007823372728674537,w=1.95,T=10.261792182922363\n",
      "ANIZ!count=300, flow=2.811072821301053,e=2.0613284204691303e-06, dev=7.734490917841704e-05,w=1.95,T=10.396705865859985\n",
      "ANIZ!count=400, flow=2.811236240963808,e=2.0131745144003232e-07, dev=2.549823845159801e-06,w=1.95,T=10.545213460922241\n",
      "Finish !count=430, flow=2.811244816615518,e=9.907096702114434e-08, dev=6.825549477240641e-06,w=1.95,T=10.588978052139282\n",
      "Time for anizotropic=0.6116688251495361\n",
      "DONE with  10.589953660964966\n"
     ]
    },
    {
     "data": {
      "image/png": "[encoded data removed]",
      "text/plain": [
       "<Figure size 432x288 with 1 Axes>"
      ]
     },
     "metadata": {},
     "output_type": "display_data"
    },
    {
     "data": {
      "text/plain": [
       "{'sol': array([[1.        , 1.        , 1.        , ..., 1.        , 1.        ,\n",
       "         1.        ],\n",
       "        [0.99692773, 0.99692983, 0.99693623, ..., 1.        , 1.        ,\n",
       "         1.        ],\n",
       "        [0.99385386, 0.99385799, 0.99387055, ..., 1.        , 1.        ,\n",
       "         1.        ],\n",
       "        ...,\n",
       "        [0.98936358, 0.98937123, 0.98939443, ..., 1.        , 1.        ,\n",
       "         1.        ],\n",
       "        [0.99468551, 0.99468941, 0.99470122, ..., 1.        , 1.        ,\n",
       "         1.        ],\n",
       "        [1.        , 1.        , 1.        , ..., 1.        , 1.        ,\n",
       "         1.        ]]),\n",
       " 'flow': 2.811244816615518,\n",
       " 'dev': 6.825549477240641e-06,\n",
       " 'N_points': 18736,\n",
       " 'count': 430,\n",
       " 'e': 9.907096702114434e-08,\n",
       " 'i_max': 220,\n",
       " 'j_max': 110,\n",
       " 't': 10.589950799942017}"
      ]
     },
     "execution_count": 4,
     "metadata": {},
     "output_type": "execute_result"
    }
   ],
   "source": [
    "LiebmanAniz('one',0.8,5,55,200, P=-179.073, _w=1.95, dr=.5,dz=.5,form='aniz')"
   ]
  },
  {
   "cell_type": "code",
   "execution_count": null,
   "metadata": {},
   "outputs": [],
   "source": []
  }
 ],
 "metadata": {
  "kernelspec": {
   "display_name": "Python 3",
   "language": "python",
   "name": "python3"
  },
  "language_info": {
   "codemirror_mode": {
    "name": "ipython",
    "version": 3
   },
   "file_extension": ".py",
   "mimetype": "text/x-python",
   "name": "python",
   "nbconvert_exporter": "python",
   "pygments_lexer": "ipython3",
   "version": "3.6.5"
  }
 },
 "nbformat": 4,
 "nbformat_minor": 2
}
