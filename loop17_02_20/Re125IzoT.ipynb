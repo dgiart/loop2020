{
 "cells": [
  {
   "cell_type": "code",
   "execution_count": 1,
   "metadata": {},
   "outputs": [],
   "source": [
    "from l2020_iz_anizotropic import LiebmanAniz"
   ]
  },
  {
   "cell_type": "code",
   "execution_count": 2,
   "metadata": {},
   "outputs": [
    {
     "name": "stdout",
     "output_type": "stream",
     "text": [
      "start with jit and CALC!:  Tue Feb 25 16:10:14 2020\n",
      "iZotropic Finally DONE with  17.348652839660645\n",
      "start with jit and CALC!:  Tue Feb 25 16:10:32 2020\n",
      "iZotropic Finally DONE with  26.017904043197632\n",
      "R=6.0, Zv=2.852345920039972, Zi=3.312563291671304, T=43.36745500564575\n",
      "start with jit and CALC!:  Tue Feb 25 16:10:58 2020\n",
      "iZotropic Finally DONE with  17.514421939849854\n",
      "start with jit and CALC!:  Tue Feb 25 16:11:15 2020\n",
      "iZotropic Finally DONE with  42.56610727310181\n",
      "R=7.0, Zv=2.7153960105324693, Zi=3.18127779589466, T=60.0814208984375\n",
      "start with jit and CALC!:  Tue Feb 25 16:11:58 2020\n",
      "iZotropic Finally DONE with  17.512349843978882\n",
      "start with jit and CALC!:  Tue Feb 25 16:12:15 2020\n",
      "iZotropic Finally DONE with  43.63115406036377\n",
      "R=8.0, Zv=2.6102494742269418, Zi=3.076369615341105, T=61.14466619491577\n",
      "start with jit and CALC!:  Tue Feb 25 16:12:59 2020\n",
      "iZotropic Finally DONE with  18.29532027244568\n",
      "start with jit and CALC!:  Tue Feb 25 16:13:17 2020\n",
      "iZotropic Finally DONE with  27.385996341705322\n",
      "R=9.0, Zv=2.5245517162790425, Zi=2.9918824771645944, T=45.6822075843811\n",
      "start with jit and CALC!:  Tue Feb 25 16:13:45 2020\n",
      "iZotropic Finally DONE with  17.626142978668213\n",
      "start with jit and CALC!:  Tue Feb 25 16:14:02 2020\n",
      "iZotropic Finally DONE with  27.523428201675415\n",
      "R=10.0, Zv=2.45472519737483, Zi=2.921322827822521, T=45.15047907829285\n",
      "start with jit and CALC!:  Tue Feb 25 16:14:30 2020\n",
      "iZotropic Finally DONE with  18.68345022201538\n",
      "start with jit and CALC!:  Tue Feb 25 16:14:49 2020\n",
      "iZotropic Finally DONE with  28.489301919937134\n",
      "R=15.085907086001786, Zv=2.23122304497422, Zi=2.68535112332971, T=47.17362093925476\n",
      "start with jit and CALC!:  Tue Feb 25 16:15:17 2020\n",
      "iZotropic Finally DONE with  19.182272911071777\n",
      "start with jit and CALC!:  Tue Feb 25 16:15:36 2020\n",
      "iZotropic Finally DONE with  30.116971254348755\n",
      "R=22.758459260747887, Zv=2.075514050491266, Zi=2.5136430145822715, T=49.300145626068115\n",
      "start with jit and CALC!:  Tue Feb 25 16:16:06 2020\n",
      "iZotropic Finally DONE with  19.113882780075073\n",
      "start with jit and CALC!:  Tue Feb 25 16:16:25 2020\n",
      "iZotropic Finally DONE with  31.080097675323486\n",
      "R=34.33320018281993, Zv=1.953623966035909, Zi=2.3762172399874633, T=50.19496965408325\n",
      "start with jit and CALC!:  Tue Feb 25 16:16:57 2020\n",
      "iZotropic Finally DONE with  21.660468816757202\n",
      "start with jit and CALC!:  Tue Feb 25 16:17:18 2020\n",
      "iZotropic Finally DONE with  36.83005237579346\n",
      "R=51.794746792312125, Zv=1.8893112581131117, Zi=2.308762836279076, T=58.491549015045166\n",
      "start with jit and CALC!:  Tue Feb 25 16:17:55 2020\n",
      "iZotropic Finally DONE with  24.746209144592285\n",
      "start with jit and CALC!:  Tue Feb 25 16:18:20 2020\n",
      "iZotropic Finally DONE with  44.04711055755615\n",
      "R=78.13707376518093, Zv=1.8737153737061525, Zi=2.3005777645543137, T=68.79427647590637\n",
      "start with jit and CALC!:  Tue Feb 25 16:19:04 2020\n",
      "iZotropic Finally DONE with  28.398939609527588\n",
      "start with jit and CALC!:  Tue Feb 25 16:19:32 2020\n",
      "iZotropic Finally DONE with  52.75404763221741\n",
      "R=117.87686347935866, Zv=1.918244619817459, Zi=2.3708354317597324, T=81.1539204120636\n",
      "start with jit and CALC!:  Tue Feb 25 16:20:25 2020\n",
      "iZotropic Finally DONE with  16.738115787506104\n",
      "start with jit and CALC!:  Tue Feb 25 16:20:42 2020\n",
      "iZotropic Finally DONE with  55.91791033744812\n",
      "R=177.82794100389228, Zv=1.9701020370270736, Zi=2.452311754939341, T=72.6569516658783\n",
      "start with jit and CALC!:  Tue Feb 25 16:21:38 2020\n",
      "iZotropic Finally DONE with  7.205687522888184\n",
      "start with jit and CALC!:  Tue Feb 25 16:21:45 2020\n",
      "iZotropic Finally DONE with  30.082513570785522\n",
      "R=268.2695795279727, Zv=1.9838979133288706, Zi=2.475725548234561, T=37.28909492492676\n",
      "start with jit and CALC!:  Tue Feb 25 16:22:15 2020\n",
      "iZotropic Finally DONE with  6.573742151260376\n",
      "start with jit and CALC!:  Tue Feb 25 16:22:21 2020\n",
      "iZotropic Finally DONE with  30.09574794769287\n",
      "R=404.70899507597613, Zv=1.9896600798650135, Zi=2.48570071155235, T=36.67041277885437\n",
      "start with jit and CALC!:  Tue Feb 25 16:22:52 2020\n",
      "iZotropic Finally DONE with  6.5812389850616455\n",
      "start with jit and CALC!:  Tue Feb 25 16:22:58 2020\n",
      "iZotropic Finally DONE with  30.20738458633423\n",
      "R=610.5402296585327, Zv=1.9924778384895734, Zi=2.4901433028417186, T=36.789629220962524\n",
      "start with jit and CALC!:  Tue Feb 25 16:23:28 2020\n",
      "iZotropic Finally DONE with  6.516796827316284\n",
      "start with jit and CALC!:  Tue Feb 25 16:23:35 2020\n",
      "iZotropic Finally DONE with  30.373751401901245\n",
      "R=921.055317689482, Zv=1.9944501988279177, Zi=2.490943465499753, T=36.89149737358093\n",
      "start with jit and CALC!:  Tue Feb 25 16:24:05 2020\n",
      "iZotropic Finally DONE with  6.558392524719238\n",
      "start with jit and CALC!:  Tue Feb 25 16:24:12 2020\n",
      "iZotropic Finally DONE with  30.186333179473877\n",
      "R=1389.4954943731375, Zv=1.9963011030404783, Zi=2.48891097743671, T=36.74561905860901\n",
      "start with jit and CALC!:  Tue Feb 25 16:24:42 2020\n",
      "iZotropic Finally DONE with  6.410584926605225\n",
      "start with jit and CALC!:  Tue Feb 25 16:24:48 2020\n",
      "iZotropic Finally DONE with  30.97617793083191\n",
      "R=2096.179992453128, Zv=1.9969398077177138, Zi=2.48821604489592, T=37.3876838684082\n",
      "start with jit and CALC!:  Tue Feb 25 16:25:19 2020\n",
      "iZotropic Finally DONE with  6.505680799484253\n",
      "start with jit and CALC!:  Tue Feb 25 16:25:26 2020\n",
      "iZotropic Finally DONE with  30.643264532089233\n",
      "R=3162.2776601683795, Zv=1.9969195845400227, Zi=2.4883513318821224, T=37.14983415603638\n"
     ]
    },
    {
     "data": {
      "image/png": "[encoded data removed]",
      "text/plain": [
       "<Figure size 432x288 with 1 Axes>"
      ]
     },
     "metadata": {
      "needs_background": "light"
     },
     "output_type": "display_data"
    },
    {
     "name": "stdout",
     "output_type": "stream",
     "text": [
      "DONE 942.8766524791718\n"
     ]
    }
   ],
   "source": [
    "import numpy as np\n",
    "import matplotlib.pyplot as plt\n",
    "from time import time\n",
    "%matplotlib inline\n",
    "l=np.linspace(1.,3.5,15)\n",
    "R=10**l\n",
    "R=np.append([6,7,8,9],R)\n",
    "Zv=[]\n",
    "Zi=[]\n",
    "start=time()\n",
    "for r in R:\n",
    "    t=time()\n",
    "    zv=LiebmanAniz('exp',3,125,int(r), P=-12., _w=1.95, dr=1.,dz=1.,form='iz')\n",
    "    Zv.append(zv['flow'])\n",
    "    zi=LiebmanAniz('exp',3,125,int(r), P=24., _w=1.95, dr=0.5,dz=0.5,form='iz')\n",
    "    Zi.append(zi['flow'])\n",
    "    print (f\"R={r}, Zv={zv['flow']}, Zi={zi['flow']}, T={time()-t}\")\n",
    "           \n",
    "           \n",
    "Zv=np.array(Zv)\n",
    "Zi=np.array(Zi)\n",
    "B=1-Zv/Zi\n",
    "plt.plot(R,B,'*')\n",
    "plt.semilogx()\n",
    "plt.show()\n",
    "print (f'DONE {time()-start}')\n",
    "    \n"
   ]
  },
  {
   "cell_type": "code",
   "execution_count": 3,
   "metadata": {},
   "outputs": [
    {
     "name": "stdout",
     "output_type": "stream",
     "text": [
      "start with jit and CALC!:  Tue Feb 25 16:29:39 2020\n",
      "iZotropic Finally DONE with  5.754369497299194\n",
      "start with jit and CALC!:  Tue Feb 25 16:29:45 2020\n",
      "iZotropic Finally DONE with  13.426609992980957\n",
      "0.24188495079240813\n"
     ]
    }
   ],
   "source": [
    "zv=LiebmanAniz('exp',3,55,10000, P=-12., _w=1.95, dr=1.,dz=1.,form='iz')\n",
    "zi=LiebmanAniz('exp',3,55,10000, P=24., _w=1.95, dr=.5,dz=.5,form='iz')\n",
    "print (1-zv['flow']/zi['flow'])"
   ]
  },
  {
   "cell_type": "code",
   "execution_count": 4,
   "metadata": {},
   "outputs": [
    {
     "name": "stdout",
     "output_type": "stream",
     "text": [
      "R: [   6.            7.            8.            9.           10.\n",
      "   15.08590709   22.75845926   34.33320018   51.79474679   78.13707377\n",
      "  117.87686348  177.827941    268.26957953  404.70899508  610.54022966\n",
      "  921.05531769 1389.49549437 2096.17999245 3162.27766017]\n",
      "start with jit and CALC!:  Tue Feb 25 17:05:00 2020\n",
      "iZotropic Finally DONE with  23.541728019714355\n",
      "start with jit and CALC!:  Tue Feb 25 17:05:24 2020\n",
      "iZotropic Finally DONE with  100.71873092651367\n",
      "R=6.0, Zv=2.75078797149936, Zi=3.2171757960328664, T=124.26242589950562\n",
      "start with jit and CALC!:  Tue Feb 25 17:07:05 2020\n",
      "iZotropic Finally DONE with  24.552180290222168\n",
      "start with jit and CALC!:  Tue Feb 25 17:07:29 2020\n",
      "iZotropic Finally DONE with  112.5962884426117\n",
      "R=7.0, Zv=2.6153983425155944, Zi=3.0809652888978762, T=137.14986395835876\n",
      "start with jit and CALC!:  Tue Feb 25 17:09:22 2020\n",
      "iZotropic Finally DONE with  25.101973056793213\n",
      "start with jit and CALC!:  Tue Feb 25 17:09:47 2020\n",
      "iZotropic Finally DONE with  108.0323657989502\n",
      "R=8.0, Zv=2.509808751114952, Zi=2.972214532571225, T=133.13559365272522\n",
      "start with jit and CALC!:  Tue Feb 25 17:11:35 2020\n",
      "iZotropic Finally DONE with  27.09244441986084\n",
      "start with jit and CALC!:  Tue Feb 25 17:12:02 2020\n",
      "iZotropic Finally DONE with  115.13928961753845\n",
      "R=9.0, Zv=2.4241327924534963, Zi=2.881935073380894, T=142.23403906822205\n",
      "start with jit and CALC!:  Tue Feb 25 17:13:57 2020\n",
      "iZotropic Finally DONE with  32.51031231880188\n",
      "start with jit and CALC!:  Tue Feb 25 17:14:30 2020\n",
      "iZotropic Finally DONE with  109.49604392051697\n",
      "R=10.0, Zv=2.3530069746844315, Zi=2.8061057746427442, T=142.00860047340393\n",
      "start with jit and CALC!:  Tue Feb 25 17:16:19 2020\n",
      "iZotropic Finally DONE with  26.498635053634644\n",
      "start with jit and CALC!:  Tue Feb 25 17:16:46 2020\n",
      "iZotropic Finally DONE with  99.36753416061401\n",
      "R=15.085907086001786, Zv=2.1221435244574844, Zi=2.5481076318052773, T=125.86741065979004\n",
      "start with jit and CALC!:  Tue Feb 25 17:18:25 2020\n",
      "iZotropic Finally DONE with  25.246062517166138\n",
      "start with jit and CALC!:  Tue Feb 25 17:18:50 2020\n",
      "iZotropic Finally DONE with  101.7513210773468\n",
      "R=22.758459260747887, Zv=1.9536675826681593, Zi=2.351797996032329, T=126.99837517738342\n",
      "start with jit and CALC!:  Tue Feb 25 17:20:32 2020\n",
      "iZotropic Finally DONE with  25.901902198791504\n",
      "start with jit and CALC!:  Tue Feb 25 17:20:58 2020\n",
      "iZotropic Finally DONE with  106.38926243782043\n",
      "R=34.33320018281993, Zv=1.8108101554440752, Zi=2.178671901592957, T=132.29238200187683\n",
      "start with jit and CALC!:  Tue Feb 25 17:22:44 2020\n",
      "iZotropic Finally DONE with  30.440850257873535\n",
      "start with jit and CALC!:  Tue Feb 25 17:23:15 2020\n",
      "iZotropic Finally DONE with  102.28970074653625\n",
      "R=51.794746792312125, Zv=1.7182347015001032, Zi=2.067223756335442, T=132.73210191726685\n",
      "start with jit and CALC!:  Tue Feb 25 17:24:57 2020\n",
      "iZotropic Finally DONE with  30.59210968017578\n",
      "start with jit and CALC!:  Tue Feb 25 17:25:28 2020\n",
      "iZotropic Finally DONE with  131.03271651268005\n",
      "R=78.13707376518093, Zv=1.660412931534073, Zi=1.994298038260475, T=161.62594723701477\n",
      "start with jit and CALC!:  Tue Feb 25 17:27:39 2020\n",
      "iZotropic Finally DONE with  35.386624336242676\n",
      "start with jit and CALC!:  Tue Feb 25 17:28:14 2020\n",
      "iZotropic Finally DONE with  153.5039463043213\n",
      "R=117.87686347935866, Zv=1.6435264612166884, Zi=1.976759374021856, T=188.89214825630188\n",
      "start with jit and CALC!:  Tue Feb 25 17:30:48 2020\n",
      "iZotropic Finally DONE with  44.22451710700989\n",
      "start with jit and CALC!:  Tue Feb 25 17:31:32 2020\n",
      "iZotropic Finally DONE with  179.6658365726471\n",
      "R=177.82794100389228, Zv=1.6718853348171885, Zi=2.018789233505169, T=223.89197039604187\n",
      "start with jit and CALC!:  Tue Feb 25 17:34:31 2020\n",
      "iZotropic Finally DONE with  48.25932025909424\n",
      "start with jit and CALC!:  Tue Feb 25 17:35:20 2020\n",
      "iZotropic Finally DONE with  195.55120491981506\n",
      "R=268.2695795279727, Zv=1.720596386509846, Zi=2.087756237544981, T=243.81244158744812\n",
      "start with jit and CALC!:  Tue Feb 25 17:38:35 2020\n",
      "iZotropic Finally DONE with  27.314585208892822\n",
      "start with jit and CALC!:  Tue Feb 25 17:39:03 2020\n",
      "iZotropic Finally DONE with  128.91253924369812\n",
      "R=404.70899507597613, Zv=1.7324714321099477, Zi=2.10631045410212, T=156.22810554504395\n",
      "start with jit and CALC!:  Tue Feb 25 17:41:11 2020\n",
      "iZotropic Finally DONE with  26.655765056610107\n",
      "start with jit and CALC!:  Tue Feb 25 17:41:38 2020\n",
      "iZotropic Finally DONE with  127.7806887626648\n",
      "R=610.5402296585327, Zv=1.7374179981276623, Zi=2.1138794753185657, T=154.4375548362732\n",
      "start with jit and CALC!:  Tue Feb 25 17:43:46 2020\n",
      "iZotropic Finally DONE with  27.174484491348267\n",
      "start with jit and CALC!:  Tue Feb 25 17:44:13 2020\n",
      "iZotropic Finally DONE with  126.28255271911621\n",
      "R=921.055317689482, Zv=1.7397514920615649, Zi=2.11737514484592, T=153.45861053466797\n",
      "start with jit and CALC!:  Tue Feb 25 17:46:19 2020\n",
      "iZotropic Finally DONE with  24.877129793167114\n",
      "start with jit and CALC!:  Tue Feb 25 17:46:44 2020\n",
      "iZotropic Finally DONE with  173.89894199371338\n",
      "R=1389.4954943731375, Zv=1.741067963212548, Zi=2.118537368037339, T=198.7772524356842\n",
      "start with jit and CALC!:  Tue Feb 25 17:49:38 2020\n",
      "iZotropic Finally DONE with  22.34430170059204\n",
      "start with jit and CALC!:  Tue Feb 25 17:50:00 2020\n",
      "iZotropic Finally DONE with  144.41514039039612\n",
      "R=2096.179992453128, Zv=1.742225566297825, Zi=2.1176776690653885, T=166.76139450073242\n",
      "start with jit and CALC!:  Tue Feb 25 17:52:25 2020\n",
      "iZotropic Finally DONE with  25.862730026245117\n",
      "start with jit and CALC!:  Tue Feb 25 17:52:51 2020\n",
      "iZotropic Finally DONE with  142.94417786598206\n",
      "R=3162.2776601683795, Zv=1.742606890728186, Zi=2.116588811565449, T=168.80807518959045\n"
     ]
    },
    {
     "data": {
      "image/png": "[encoded data removed]",
      "text/plain": [
       "<Figure size 432x288 with 1 Axes>"
      ]
     },
     "metadata": {
      "needs_background": "light"
     },
     "output_type": "display_data"
    },
    {
     "name": "stdout",
     "output_type": "stream",
     "text": [
      "DONE 3013.9094562530518\n"
     ]
    }
   ],
   "source": [
    "import numpy as np\n",
    "import matplotlib.pyplot as plt\n",
    "from time import time\n",
    "%matplotlib inline\n",
    "l=np.linspace(1,3.5,15)\n",
    "R=10**l\n",
    "R=np.append([6,7,8,9],R)\n",
    "print(f'R: {R}')\n",
    "Zv=[]\n",
    "Zi=[]\n",
    "start=time()\n",
    "for r in R:\n",
    "    t=time()\n",
    "    zv=LiebmanAniz('exp',3,200,int(r), P=-12., _w=1.95, dr=1.,dz=1.,form='iz')\n",
    "    Zv.append(zv['flow'])\n",
    "    zi=LiebmanAniz('exp',3,200,int(r), P=24., _w=1.95, dr=0.5,dz=0.5,form='iz')\n",
    "    Zi.append(zi['flow'])\n",
    "    print (f\"R={r}, Zv={zv['flow']}, Zi={zi['flow']}, T={time()-t}\")\n",
    "           \n",
    "           \n",
    "Zv=np.array(Zv)\n",
    "Zi=np.array(Zi)\n",
    "B200=1-Zv/Zi\n",
    "plt.plot(R,B200,'*')\n",
    "plt.semilogx()\n",
    "plt.show()\n",
    "print (f'DONE {time()-start}')\n",
    "    \n"
   ]
  },
  {
   "cell_type": "code",
   "execution_count": 5,
   "metadata": {},
   "outputs": [
    {
     "data": {
      "text/plain": [
       "array([0.14496809, 0.15111074, 0.15557618, 0.15885239, 0.1614689 ,\n",
       "       0.1671688 , 0.16928767, 0.16884678, 0.16882016, 0.16741986,\n",
       "       0.16857535, 0.1718376 , 0.17586337, 0.17748524, 0.17809032,\n",
       "       0.17834518, 0.17817453, 0.17729426, 0.17669087])"
      ]
     },
     "execution_count": 5,
     "metadata": {},
     "output_type": "execute_result"
    }
   ],
   "source": [
    "B200"
   ]
  },
  {
   "cell_type": "code",
   "execution_count": null,
   "metadata": {},
   "outputs": [],
   "source": [
    "b"
   ]
  }
 ],
 "metadata": {
  "kernelspec": {
   "display_name": "Python 3",
   "language": "python",
   "name": "python3"
  },
  "language_info": {
   "codemirror_mode": {
    "name": "ipython",
    "version": 3
   },
   "file_extension": ".py",
   "mimetype": "text/x-python",
   "name": "python",
   "nbconvert_exporter": "python",
   "pygments_lexer": "ipython3",
   "version": "3.7.4"
  }
 },
 "nbformat": 4,
 "nbformat_minor": 2
}
