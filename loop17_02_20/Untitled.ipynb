{
 "cells": [
  {
   "cell_type": "code",
   "execution_count": 1,
   "metadata": {},
   "outputs": [],
   "source": [
    "from l2020_anizotropic import LiebmanAniz"
   ]
  },
  {
   "cell_type": "code",
   "execution_count": 2,
   "metadata": {},
   "outputs": [
    {
     "name": "stdout",
     "output_type": "stream",
     "text": [
      "start with jit and CALC!:  Mon Feb 17 19:19:35 2020\n",
      "Time for k=0.0009517669677734375\n",
      "Time for k=0.0008862018585205078\n",
      "Time for k=0.0006892681121826172\n",
      "Time for k=0.0007083415985107422\n",
      "Time for k=0.0006890296936035156\n",
      "Start fill the matrixes\n",
      "Time for coefficient calculation: 33.23973488807678\n",
      "Finish fill the matrixes, T=33.3426399230957\n",
      "start EMPTY iterating, T= 34.16750240325928\n",
      "Time for empty=3.6668570041656494\n",
      "start IZotropic iterating, T= 37.83451056480408\n",
      "Time for iter: 0.0013840198516845703\n",
      "Time for iter: 0.0013494491577148438\n",
      "Time for iter: 0.001332998275756836\n",
      "Time for iter: 0.0013589859008789062\n",
      "Time for iter: 0.001416921615600586\n",
      "FINISH IZotropic iterating with jit, T=38.330020904541016, flow=2.862178587695894\n",
      "!count=253, flow=2.862178587695894,e=3.515743210762182e-07, dev=2.1584455971628116e-05,w=1.95,T=38.33013153076172\n",
      "Time for isotropic=0.49562931060791016\n",
      "****************************************\n",
      "\n",
      "ANIZ!count=100, flow=2.9701559565126368,e=1, dev=10,w=1.95,T=40.14852976799011\n",
      "ANIZ!count=200, flow=2.9696054781415393,e=1.3470130720977247e-06, dev=0.030911538593043845,w=1.95,T=40.33634877204895\n",
      "Time for anizotropic=0.4095275402069092\n",
      "DONE with  40.36972188949585\n"
     ]
    },
    {
     "data": {
      "image/png": "[encoded data removed]",
      "text/plain": [
       "<Figure size 432x288 with 1 Axes>"
      ]
     },
     "metadata": {
      "needs_background": "light"
     },
     "output_type": "display_data"
    },
    {
     "name": "stdout",
     "output_type": "stream",
     "text": [
      "Zv= 2.9696315394346042\n",
      "Time= 40.56325912475586\n"
     ]
    }
   ],
   "source": [
    "from time import time\n",
    "%matplotlib inline\n",
    "start=time()\n",
    "zv=LiebmanAniz('exp',5,55,3000, P=-12., _w=1.95, dr=1.,dz=1.)\n",
    "Zv=zv['flow']\n",
    "print ('Zv=',Zv)\n",
    "print ('Time=',time()-start)"
   ]
  },
  {
   "cell_type": "code",
   "execution_count": null,
   "metadata": {},
   "outputs": [],
   "source": []
  }
 ],
 "metadata": {
  "kernelspec": {
   "display_name": "Python 3",
   "language": "python",
   "name": "python3"
  },
  "language_info": {
   "codemirror_mode": {
    "name": "ipython",
    "version": 3
   },
   "file_extension": ".py",
   "mimetype": "text/x-python",
   "name": "python",
   "nbconvert_exporter": "python",
   "pygments_lexer": "ipython3",
   "version": "3.7.4"
  }
 },
 "nbformat": 4,
 "nbformat_minor": 2
}
